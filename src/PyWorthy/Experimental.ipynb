{
 "cells": [
  {
   "cell_type": "code",
   "execution_count": 1,
   "metadata": {},
   "outputs": [],
   "source": [
    "import sys\n",
    "import os\n",
    "from z3 import *\n",
    "from BitVector import *\n",
    "import pdb\n",
    "\n",
    "path = os.getcwd()\n",
    "rootpath = path[:path.rfind('src') + 4]\n",
    "sys.path.append(f'{rootpath}/PyWorthy')"
   ]
  },
  {
   "cell_type": "code",
   "execution_count": 2,
   "metadata": {},
   "outputs": [],
   "source": [
    "benchmark_models = [\n",
    "    \"Benchmarks/Blasted_Real/blasted_case47.cnf\",  # 0\n",
    "    \"Benchmarks/Blasted_Real/blasted_case110.cnf\",\n",
    "    \"Benchmarks/V7/s820a_7_4.cnf\",\n",
    "    \"Benchmarks/V15/s820a_15_7.cnf\",\n",
    "    \"Benchmarks/V3/s1238a_3_2.cnf\",\n",
    "    \"Benchmarks/V3/s1196a_3_2.cnf\",  # 5\n",
    "    \"Benchmarks/V15/s832a_15_7.cnf\",\n",
    "    \"Benchmarks/Blasted_Real/blasted_case_1_b12_2.cnf\",\n",
    "    \"Benchmarks/Blasted_Real/blasted_squaring16.cnf\",\n",
    "    \"Benchmarks/Blasted_Real/blasted_squaring7.cnf\",\n",
    "    \"Benchmarks/70.sk_3_40.cnf\",  # 10\n",
    "    \"Benchmarks/ProcessBean.sk_8_64.cnf\",\n",
    "    \"Benchmarks/56.sk_6_38.cnf\",\n",
    "    \"Benchmarks/35.sk_3_52.cnf\",\n",
    "    \"Benchmarks/80.sk_2_48.cnf\",\n",
    "    \"Benchmarks/7.sk_4_50.cnf\",  # 15\n",
    "    \"Benchmarks/doublyLinkedList.sk_8_37.cnf\",\n",
    "    \"Benchmarks/19.sk_3_48.cnf\",\n",
    "    \"Benchmarks/29.sk_3_45.cnf\",\n",
    "    \"Benchmarks/isolateRightmost.sk_7_481.cnf\",\n",
    "    \"Benchmarks/17.sk_3_45.cnf\",  # 20\n",
    "    \"Benchmarks/81.sk_5_51.cnf\",\n",
    "    \"Benchmarks/LoginService2.sk_23_36.cnf\",\n",
    "    \"Benchmarks/sort.sk_8_52.cnf\",\n",
    "    \"Benchmarks/parity.sk_11_11.cnf\",\n",
    "    \"Benchmarks/77.sk_3_44.cnf\",  # 25\n",
    "    \"Benchmarks/20.sk_1_51.cnf\",\n",
    "    \"Benchmarks/enqueueSeqSK.sk_10_42.cnf\",\n",
    "    \"Benchmarks/karatsuba.sk_7_41.cnf\",\n",
    "    # \"Benchmarks/diagStencilClean.sk_41_36.cnf\",\n",
    "    \"Benchmarks/tutorial3.sk_4_31.cnf\"\n",
    "]"
   ]
  },
  {
   "cell_type": "code",
   "execution_count": 3,
   "metadata": {},
   "outputs": [],
   "source": [
    "class program_s:\n",
    "    def __init__(self, name):\n",
    "        self.name = name\n",
    "        self.var_num = 0\n",
    "        self.clauses_num = 0\n",
    "        self.vars = list()\n",
    "        self.clauses = list()"
   ]
  },
  {
   "cell_type": "code",
   "execution_count": 4,
   "metadata": {},
   "outputs": [],
   "source": [
    "def load_cnf(model_file, model_name):\n",
    "    program = program_s(model_name)\n",
    "    with open(model_file, 'r') as f:\n",
    "        for line in f.readlines():\n",
    "            line = line.strip()\n",
    "            if line.startswith('c'): continue\n",
    "            if line.startswith('p'):\n",
    "                _1, _2, var_num, clause_num = line.split(' ')\n",
    "                program.var_num, program.clauses_num = int(var_num), int(\n",
    "                    clause_num)\n",
    "                for i in range(program.var_num + 1):\n",
    "                    program.vars.append(Bool(f'v{i}'))\n",
    "                continue\n",
    "            vs = list(map(lambda i: int(i), line.split(' ')))[:-1]\n",
    "            vs_ref = [\n",
    "                program.vars[abs(v)] if v > 0 else (Not(program.vars[abs(v)]))\n",
    "                for v in vs\n",
    "            ]\n",
    "            program.clauses.append(Or(*vs_ref))\n",
    "    return program"
   ]
  },
  {
   "cell_type": "code",
   "execution_count": 5,
   "metadata": {},
   "outputs": [],
   "source": [
    "def load_over_sampling(model_name):\n",
    "    f_name = f'{rootpath}../memo/{model_name}.cnf.memo'\n",
    "    inits = list()\n",
    "    with open(f_name, 'r') as f:\n",
    "        for line in f.readlines():\n",
    "            line = line.strip()\n",
    "            bv = BitVector(bitstring=line)\n",
    "            inits.append(bv)\n",
    "    return inits"
   ]
  },
  {
   "cell_type": "code",
   "execution_count": 6,
   "metadata": {},
   "outputs": [],
   "source": [
    "model_id = 0\n",
    "model_file = f'{rootpath}../{benchmark_models[model_id]}'\n",
    "model_name = model_file[model_file.rfind('/') + 1:model_file.rfind('.cnf')]\n",
    "program = load_cnf(model_file, model_name)"
   ]
  },
  {
   "cell_type": "code",
   "execution_count": 7,
   "metadata": {},
   "outputs": [],
   "source": [
    "inits = load_over_sampling(model_name)"
   ]
  },
  {
   "cell_type": "code",
   "execution_count": 10,
   "metadata": {},
   "outputs": [],
   "source": [
    "from sklearn.cluster import KMeans"
   ]
  },
  {
   "cell_type": "code",
   "execution_count": 11,
   "metadata": {},
   "outputs": [],
   "source": [
    "kmeans = KMeans(n_clusters=10, random_state=0).fit(inits)"
   ]
  },
  {
   "cell_type": "code",
   "execution_count": 27,
   "metadata": {},
   "outputs": [
    {
     "data": {
      "text/plain": [
       "array([16, 23, 62, 63, 64, 70, 71, 86, 89, 97])"
      ]
     },
     "execution_count": 27,
     "metadata": {},
     "output_type": "execute_result"
    }
   ],
   "source": [
    "import numpy as np\n",
    "np.where(kmeans.labels_ == 1)[0]"
   ]
  },
  {
   "cell_type": "code",
   "execution_count": 23,
   "metadata": {},
   "outputs": [
    {
     "data": {
      "text/plain": [
       "array([2, 4, 5, 3, 4, 5, 5, 6, 9, 3, 5, 9, 5, 5, 6, 2, 1, 3, 0, 3, 2, 3,\n",
       "       3, 1, 0, 3, 9, 6, 6, 5, 0, 4, 4, 0, 4, 6, 0, 4, 2, 4, 4, 6, 0, 0,\n",
       "       0, 0, 4, 4, 4, 3, 3, 3, 0, 4, 6, 6, 2, 2, 5, 5, 0, 0, 1, 1, 1, 8,\n",
       "       7, 6, 6, 7, 1, 1, 7, 9, 6, 6, 7, 7, 8, 4, 6, 8, 4, 7, 8, 6, 1, 6,\n",
       "       6, 1, 7, 0, 8, 8, 9, 7, 3, 1, 3, 7], dtype=int32)"
      ]
     },
     "execution_count": 23,
     "metadata": {},
     "output_type": "execute_result"
    }
   ],
   "source": [
    "kmeans.labels_"
   ]
  },
  {
   "cell_type": "code",
   "execution_count": 28,
   "metadata": {},
   "outputs": [
    {
     "data": {
      "text/plain": [
       "62"
      ]
     },
     "execution_count": 28,
     "metadata": {},
     "output_type": "execute_result"
    }
   ],
   "source": [
    "np.random.choice(np.where(kmeans.labels_ == 1)[0])"
   ]
  },
  {
   "cell_type": "code",
   "execution_count": null,
   "metadata": {},
   "outputs": [],
   "source": []
  }
 ],
 "metadata": {
  "kernelspec": {
   "display_name": "Python 3",
   "language": "python",
   "name": "python3"
  },
  "language_info": {
   "codemirror_mode": {
    "name": "ipython",
    "version": 3
   },
   "file_extension": ".py",
   "mimetype": "text/x-python",
   "name": "python",
   "nbconvert_exporter": "python",
   "pygments_lexer": "ipython3",
   "version": "3.6.7"
  }
 },
 "nbformat": 4,
 "nbformat_minor": 2
}
